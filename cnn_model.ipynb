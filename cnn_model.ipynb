version https://git-lfs.github.com/spec/v1
oid sha256:54496bf49ec282104ac3260b0c8bf4653abb8534513acf336e1ef38f3daaed40
size 9742
